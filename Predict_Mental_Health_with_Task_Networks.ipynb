{
  "cells": [
    {
      "cell_type": "markdown",
      "metadata": {
        "id": "view-in-github",
        "colab_type": "text"
      },
      "source": [
        "<a href=\"https://colab.research.google.com/github/ckorponay/Predicting-Mental-Health-with-Brain-Network-Profiles/blob/main/Predict_Mental_Health_with_Task_Networks.ipynb\" target=\"_parent\"><img src=\"https://colab.research.google.com/assets/colab-badge.svg\" alt=\"Open In Colab\"/></a>"
      ]
    },
    {
      "cell_type": "code",
      "execution_count": null,
      "metadata": {
        "id": "fp7DrYVeNAJe"
      },
      "outputs": [],
      "source": [
        "# Importing Required Libraries\n",
        "import numpy as np\n",
        "import pandas as pd\n",
        "import matplotlib\n",
        "import os\n",
        "from sklearn.model_selection import train_test_split\n",
        "from sklearn.ensemble import RandomForestClassifier\n",
        "from sklearn import metrics\n",
        "import numba\n",
        "from sklearn.ensemble import RandomForestRegressor\n",
        "import scipy.stats"
      ]
    },
    {
      "cell_type": "code",
      "execution_count": null,
      "metadata": {
        "id": "n46fji5X09ee"
      },
      "outputs": [],
      "source": [
        "from google.colab import drive\n",
        "drive.mount('/content/drive')"
      ]
    },
    {
      "cell_type": "code",
      "execution_count": null,
      "metadata": {
        "id": "BUEvFgFjNZC_"
      },
      "outputs": [],
      "source": [
        "!pip install shap"
      ]
    },
    {
      "cell_type": "code",
      "execution_count": null,
      "metadata": {
        "id": "mJ8mro-FQAy6"
      },
      "outputs": [],
      "source": [
        "import shap"
      ]
    },
    {
      "cell_type": "code",
      "execution_count": null,
      "metadata": {
        "id": "zixKfu76OwsB"
      },
      "outputs": [],
      "source": [
        "from google.colab import drive"
      ]
    },
    {
      "cell_type": "code",
      "execution_count": null,
      "metadata": {
        "id": "Nk0mBIjNO5ak"
      },
      "outputs": [],
      "source": [
        "drive.mount('/content/drive')"
      ]
    },
    {
      "cell_type": "code",
      "execution_count": null,
      "metadata": {
        "id": "bijBiEO6NAJf"
      },
      "outputs": [],
      "source": [
        "trainG1=pd.read_csv(\"/content/drive/MyDrive/Colab Notebooks/Group1_SubjectLoadings_AllTasks.csv\")"
      ]
    },
    {
      "cell_type": "code",
      "execution_count": null,
      "metadata": {
        "id": "l17oeAljhY34"
      },
      "outputs": [],
      "source": [
        "testG2=pd.read_csv(\"/content/drive/MyDrive/Colab Notebooks/Group2_SubjectLoadings_AllTasks.csv\")"
      ]
    },
    {
      "cell_type": "markdown",
      "metadata": {
        "id": "MQ5BaAaEj92Z"
      },
      "source": [
        "Train on Group 1, Test on Group 2"
      ]
    },
    {
      "cell_type": "markdown",
      "metadata": {
        "id": "91J3mz66zpXC"
      },
      "source": [
        "\n",
        "\n",
        "```\n",
        "# This is formatted as code\n",
        "```\n",
        "\n",
        "COGNITION"
      ]
    },
    {
      "cell_type": "code",
      "execution_count": null,
      "metadata": {
        "id": "Ou6PVB69x6GQ"
      },
      "outputs": [],
      "source": [
        "trainG1_Cognition = trainG1.drop(['Subject','Age','Gender','Education','Internalizing','Well-Being','Processing Speed','Substance Use'],axis=1)"
      ]
    },
    {
      "cell_type": "code",
      "execution_count": null,
      "metadata": {
        "id": "uIUabT9Mx5_O"
      },
      "outputs": [],
      "source": [
        "testG2_Cognition=testG2.drop(['Subject','Age','Gender','Education','Internalizing','Well-Being','Processing Speed','Substance Use'],axis=1)"
      ]
    },
    {
      "cell_type": "code",
      "execution_count": null,
      "metadata": {
        "id": "rYgk15d1x528"
      },
      "outputs": [],
      "source": [
        "X_trainG1_Cognition=trainG1_Cognition.drop(['Cognition'],axis=1)"
      ]
    },
    {
      "cell_type": "code",
      "execution_count": null,
      "metadata": {
        "id": "pYDILjT9x5u6"
      },
      "outputs": [],
      "source": [
        "Y_trainG1_Cognition=trainG1_Cognition['Cognition']"
      ]
    },
    {
      "cell_type": "code",
      "execution_count": null,
      "metadata": {
        "id": "FUaL0D6cx5mp"
      },
      "outputs": [],
      "source": [
        "X_testG2_Cognition=testG2_Cognition.drop(['Cognition'],axis=1)"
      ]
    },
    {
      "cell_type": "code",
      "execution_count": null,
      "metadata": {
        "id": "JkFcqUtFx5dg"
      },
      "outputs": [],
      "source": [
        "Y_testG2_Cognition=testG2_Cognition['Cognition']"
      ]
    },
    {
      "cell_type": "code",
      "execution_count": null,
      "metadata": {
        "id": "rnL8s89Ex5Tu"
      },
      "outputs": [],
      "source": [
        "print(\"Processed DataFrame for Training : Cognition is the target other columns are features.\")"
      ]
    },
    {
      "cell_type": "code",
      "execution_count": null,
      "metadata": {
        "id": "ad-CjkRLx5Gs"
      },
      "outputs": [],
      "source": [
        "random_forestCognition=RandomForestRegressor()"
      ]
    },
    {
      "cell_type": "code",
      "execution_count": null,
      "metadata": {
        "id": "BS0gOCaWyz-Y"
      },
      "outputs": [],
      "source": [
        "random_forestCognition.fit(X_trainG1_Cognition,Y_trainG1_Cognition)"
      ]
    },
    {
      "cell_type": "code",
      "execution_count": null,
      "metadata": {
        "id": "VVUwpBq3yz1P"
      },
      "outputs": [],
      "source": [
        "y_predCognition=random_forestCognition.predict(X_testG2_Cognition)"
      ]
    },
    {
      "cell_type": "code",
      "execution_count": null,
      "metadata": {
        "id": "4gWNyz_ozBda"
      },
      "outputs": [],
      "source": [
        "print('Explained variance: ', metrics.explained_variance_score(Y_testG2_Cognition,y_predCognition))"
      ]
    },
    {
      "cell_type": "code",
      "execution_count": null,
      "metadata": {
        "id": "co-ZgbwmzBUR"
      },
      "outputs": [],
      "source": [
        "print('MSE: ', metrics.mean_squared_error(Y_testG2_Cognition,y_predCognition))"
      ]
    },
    {
      "cell_type": "code",
      "execution_count": null,
      "metadata": {
        "id": "wJPwqrYPzBH4"
      },
      "outputs": [],
      "source": [
        "print('r2 score: ',metrics.r2_score(Y_testG2_Cognition,y_predCognition,multioutput='variance_weighted'))"
      ]
    },
    {
      "cell_type": "code",
      "source": [
        "scipy.stats.pearsonr(Y_testG2_Cognition, y_predCognition)"
      ],
      "metadata": {
        "id": "SDyAahfIH1Pp"
      },
      "execution_count": null,
      "outputs": []
    },
    {
      "cell_type": "code",
      "execution_count": null,
      "metadata": {
        "id": "D4RVQoFtzOwo"
      },
      "outputs": [],
      "source": [
        "explainerCognition=shap.Explainer(random_forestCognition,X_trainG1_Cognition)"
      ]
    },
    {
      "cell_type": "code",
      "execution_count": null,
      "metadata": {
        "id": "awCKHTMTzUnW"
      },
      "outputs": [],
      "source": [
        "shap_valuesCognition=explainerCognition(X_trainG1_Cognition,check_additivity=False)"
      ]
    },
    {
      "cell_type": "code",
      "execution_count": null,
      "metadata": {
        "id": "SiiyjXRIzUcm"
      },
      "outputs": [],
      "source": [
        "shap.plots.beeswarm(shap_valuesCognition)"
      ]
    },
    {
      "cell_type": "code",
      "execution_count": null,
      "metadata": {
        "id": "i0JNDGQDzOlG"
      },
      "outputs": [],
      "source": [
        "shap.plots.bar(shap_valuesCognition)"
      ]
    },
    {
      "cell_type": "markdown",
      "metadata": {
        "id": "iD5LP_F8zu9V"
      },
      "source": [
        "Well-Being"
      ]
    },
    {
      "cell_type": "code",
      "execution_count": null,
      "metadata": {
        "id": "AL--iH9D_B8m"
      },
      "outputs": [],
      "source": [
        "trainG1_WellBeing = trainG1.drop(['Subject','Education','Internalizing','Cognition','Processing Speed','Substance Use'],axis=1)\n",
        "testG2_WellBeing=testG2.drop(['Subject','Education','Internalizing','Cognition','Processing Speed','Substance Use'],axis=1)\n",
        "X_trainG1_WellBeing=trainG1_WellBeing.drop(['Well-Being'],axis=1)\n",
        "Y_trainG1_WellBeing=trainG1_WellBeing['Well-Being']\n",
        "X_testG2_WellBeing=testG2_WellBeing.drop(['Well-Being'],axis=1)\n",
        "Y_testG2_WellBeing=testG2_WellBeing['Well-Being']\n",
        "random_forestWellBeing=RandomForestRegressor()\n",
        "random_forestWellBeing.fit(X_trainG1_WellBeing,Y_trainG1_WellBeing)\n",
        "y_predWellBeing=random_forestWellBeing.predict(X_testG2_WellBeing)\n",
        "print('Explained variance: ', metrics.explained_variance_score(Y_testG2_WellBeing,y_predWellBeing))\n",
        "print('MSE: ', metrics.mean_squared_error(Y_testG2_WellBeing,y_predWellBeing))\n",
        "print('r2 score: ',metrics.r2_score(Y_testG2_WellBeing,y_predWellBeing,multioutput='variance_weighted'))\n",
        "print('corr:' , scipy.stats.pearsonr(Y_testG2_WellBeing, y_predWellBeing))\n",
        "explainerWellBeing=shap.Explainer(random_forestWellBeing,X_trainG1_WellBeing)\n",
        "shap_valuesWellBeing=explainerWellBeing(X_trainG1_WellBeing,check_additivity=False)\n",
        "shap.plots.beeswarm(shap_valuesWellBeing)\n",
        "shap.plots.bar(shap_valuesWellBeing)"
      ]
    },
    {
      "cell_type": "markdown",
      "source": [
        "Internalizing"
      ],
      "metadata": {
        "id": "ru6ebvoqMfto"
      }
    },
    {
      "cell_type": "code",
      "execution_count": null,
      "metadata": {
        "id": "mzf0MvE6_SqV"
      },
      "outputs": [],
      "source": [
        "trainG1_Internalizing = trainG1.drop(['Subject','Education','Well-Being','Cognition','Processing Speed','Substance Use'],axis=1)\n",
        "testG2_Internalizing=testG2.drop(['Subject','Education','Well-Being','Cognition','Processing Speed','Substance Use'],axis=1)\n",
        "X_trainG1_Internalizing=trainG1_Internalizing.drop(['Internalizing'],axis=1)\n",
        "Y_trainG1_Internalizing=trainG1_Internalizing['Internalizing']\n",
        "X_testG2_Internalizing=testG2_Internalizing.drop(['Internalizing'],axis=1)\n",
        "Y_testG2_Internalizing=testG2_Internalizing['Internalizing']\n",
        "random_forestInternalizing=RandomForestRegressor()\n",
        "random_forestInternalizing.fit(X_trainG1_Internalizing,Y_trainG1_Internalizing)\n",
        "y_predInternalizing=random_forestInternalizing.predict(X_testG2_Internalizing)\n",
        "print('Explained variance: ', metrics.explained_variance_score(Y_testG2_Internalizing,y_predInternalizing))\n",
        "print('MSE: ', metrics.mean_squared_error(Y_testG2_Internalizing,y_predInternalizing))\n",
        "print('r2 score: ',metrics.r2_score(Y_testG2_Internalizing,y_predInternalizing,multioutput='variance_weighted'))\n",
        "print('corr:' , scipy.stats.pearsonr(Y_testG2_Internalizing, y_predInternalizing))\n",
        "explainerInternalizing=shap.Explainer(random_forestInternalizing,X_trainG1_Internalizing)\n",
        "shap_valuesInternalizing=explainerInternalizing(X_trainG1_Internalizing,check_additivity=False)\n",
        "shap.plots.beeswarm(shap_valuesInternalizing)\n",
        "shap.plots.bar(shap_valuesInternalizing)"
      ]
    },
    {
      "cell_type": "markdown",
      "source": [
        "Substance Use"
      ],
      "metadata": {
        "id": "IfjFu706NZlf"
      }
    },
    {
      "cell_type": "code",
      "execution_count": null,
      "metadata": {
        "id": "AtjjrpUYAaJS"
      },
      "outputs": [],
      "source": [
        "trainG1_SubstanceUse = trainG1.drop(['Subject','Education','Well-Being','Cognition','Processing Speed','Internalizing'],axis=1)\n",
        "testG2_SubstanceUse=testG2.drop(['Subject','Education','Well-Being','Cognition','Processing Speed','Internalizing'],axis=1)\n",
        "X_trainG1_SubstanceUse=trainG1_SubstanceUse.drop(['Substance Use'],axis=1)\n",
        "Y_trainG1_SubstanceUse=trainG1_SubstanceUse['Substance Use']\n",
        "X_testG2_SubstanceUse=testG2_SubstanceUse.drop(['Substance Use'],axis=1)\n",
        "Y_testG2_SubstanceUse=testG2_SubstanceUse['Substance Use']\n",
        "random_forestSubstanceUse=RandomForestRegressor()\n",
        "random_forestSubstanceUse.fit(X_trainG1_SubstanceUse,Y_trainG1_SubstanceUse)\n",
        "y_predSubstanceUse=random_forestSubstanceUse.predict(X_testG2_SubstanceUse)\n",
        "print('Explained variance: ', metrics.explained_variance_score(Y_testG2_SubstanceUse,y_predSubstanceUse))\n",
        "print('MSE: ', metrics.mean_squared_error(Y_testG2_SubstanceUse,y_predSubstanceUse))\n",
        "print('r2 score: ',metrics.r2_score(Y_testG2_SubstanceUse,y_predSubstanceUse,multioutput='variance_weighted'))\n",
        "print('corr:' , scipy.stats.pearsonr(Y_testG2_SubstanceUse, y_predSubstanceUse))\n",
        "explainerSubstanceUse=shap.Explainer(random_forestSubstanceUse,X_trainG1_SubstanceUse)\n",
        "shap_valuesSubstanceUse=explainerSubstanceUse(X_trainG1_SubstanceUse,check_additivity=False)\n",
        "shap.plots.beeswarm(shap_valuesSubstanceUse)\n",
        "shap.plots.bar(shap_valuesSubstanceUse)"
      ]
    },
    {
      "cell_type": "markdown",
      "source": [
        "Processing Speed"
      ],
      "metadata": {
        "id": "c63lDLqJxaKm"
      }
    },
    {
      "cell_type": "code",
      "source": [
        "trainG1_ProcessingSpeed = trainG1.drop(['Subject','Education','Well-Being','Cognition','Substance Use','Internalizing'],axis=1)\n",
        "testG2_ProcessingSpeed=testG2.drop(['Subject','Education','Well-Being','Cognition','Substance Use','Internalizing'],axis=1)\n",
        "X_trainG1_ProcessingSpeed=trainG1_ProcessingSpeed.drop(['Processing Speed'],axis=1)\n",
        "Y_trainG1_ProcessingSpeed=trainG1_ProcessingSpeed['Processing Speed']\n",
        "X_testG2_ProcessingSpeed=testG2_ProcessingSpeed.drop(['Processing Speed'],axis=1)\n",
        "Y_testG2_ProcessingSpeed=testG2_ProcessingSpeed['Processing Speed']\n",
        "random_forestProcessingSpeed=RandomForestRegressor()\n",
        "random_forestProcessingSpeed.fit(X_trainG1_ProcessingSpeed,Y_trainG1_ProcessingSpeed)\n",
        "y_predProcessingSpeed=random_forestProcessingSpeed.predict(X_testG2_ProcessingSpeed)\n",
        "print('Explained variance: ', metrics.explained_variance_score(Y_testG2_ProcessingSpeed,y_predProcessingSpeed))\n",
        "print('MSE: ', metrics.mean_squared_error(Y_testG2_ProcessingSpeed,y_predProcessingSpeed))\n",
        "print('r2 score: ',metrics.r2_score(Y_testG2_ProcessingSpeed,y_predProcessingSpeed,multioutput='variance_weighted'))\n",
        "print('corr:' , scipy.stats.pearsonr(Y_testG2_ProcessingSpeed, y_predProcessingSpeed))\n",
        "explainerProcessingSpeed=shap.Explainer(random_forestProcessingSpeed,X_trainG1_ProcessingSpeed)\n",
        "shap_valuesProcessingSpeed=explainerProcessingSpeed(X_trainG1_ProcessingSpeed,check_additivity=False)\n",
        "shap.plots.beeswarm(shap_valuesProcessingSpeed)\n",
        "shap.plots.bar(shap_valuesProcessingSpeed)"
      ],
      "metadata": {
        "id": "fQX5uZPyxdnd"
      },
      "execution_count": null,
      "outputs": []
    }
  ],
  "metadata": {
    "colab": {
      "provenance": [],
      "include_colab_link": true
    },
    "kernelspec": {
      "display_name": "Python 3",
      "language": "python",
      "name": "python3"
    },
    "language_info": {
      "codemirror_mode": {
        "name": "ipython",
        "version": 3
      },
      "file_extension": ".py",
      "mimetype": "text/x-python",
      "name": "python",
      "nbconvert_exporter": "python",
      "pygments_lexer": "ipython3",
      "version": "3.7.1"
    }
  },
  "nbformat": 4,
  "nbformat_minor": 0
}